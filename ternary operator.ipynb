{
 "cells": [
  {
   "cell_type": "code",
   "execution_count": 2,
   "metadata": {},
   "outputs": [
    {
     "name": "stdout",
     "output_type": "stream",
     "text": [
      "enter a : 5\n",
      "enter b : 10\n",
      "10\n"
     ]
    }
   ],
   "source": [
    "a= int(input(\"enter a : \"))\n",
    "b= int(input(\"enter b : \"))\n",
    "\n",
    "result = a if a>b else b\n",
    "print(result)"
   ]
  },
  {
   "cell_type": "code",
   "execution_count": 5,
   "metadata": {},
   "outputs": [
    {
     "name": "stdout",
     "output_type": "stream",
     "text": [
      "enter a : 60\n",
      "enter b : 70\n",
      "Passed !!!\n"
     ]
    }
   ],
   "source": [
    "a= int(input(\"enter a : \"))\n",
    "b= int(input(\"enter b : \"))\n",
    "\n",
    "result =\"Passed !!!\" if a>33 and b>33 else \"Failed !!\"\n",
    "print(result)"
   ]
  },
  {
   "cell_type": "code",
   "execution_count": 7,
   "metadata": {},
   "outputs": [
    {
     "name": "stdout",
     "output_type": "stream",
     "text": [
      "enter a : 10\n",
      "enter b : 9\n",
      "Odd\n"
     ]
    }
   ],
   "source": [
    "a= int(input(\"enter a : \"))\n",
    "b= int(input(\"enter b : \"))\n",
    "\n",
    "result= \"Even\" if a%2==0 and b%2==0 else \"Odd\"\n",
    "print(result)"
   ]
  },
  {
   "cell_type": "code",
   "execution_count": null,
   "metadata": {},
   "outputs": [],
   "source": []
  }
 ],
 "metadata": {
  "kernelspec": {
   "display_name": "Python 3",
   "language": "python",
   "name": "python3"
  },
  "language_info": {
   "codemirror_mode": {
    "name": "ipython",
    "version": 3
   },
   "file_extension": ".py",
   "mimetype": "text/x-python",
   "name": "python",
   "nbconvert_exporter": "python",
   "pygments_lexer": "ipython3",
   "version": "3.7.6"
  }
 },
 "nbformat": 4,
 "nbformat_minor": 4
}
