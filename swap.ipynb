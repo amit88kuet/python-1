{
 "cells": [
  {
   "cell_type": "code",
   "execution_count": 1,
   "metadata": {},
   "outputs": [
    {
     "name": "stdout",
     "output_type": "stream",
     "text": [
      "a is : 20\n",
      "b is : 10\n"
     ]
    }
   ],
   "source": [
    "a =10\n",
    "b =20\n",
    "\n",
    "temp =a\n",
    "a=b\n",
    "b=temp\n",
    "\n",
    "print(\"a is :\",a)\n",
    "print(\"b is :\",b)"
   ]
  },
  {
   "cell_type": "code",
   "execution_count": 2,
   "metadata": {},
   "outputs": [
    {
     "name": "stdout",
     "output_type": "stream",
     "text": [
      "a is : 20\n",
      "b is : 10\n"
     ]
    }
   ],
   "source": [
    "a =10\n",
    "b =20\n",
    "\n",
    "a=a+b\n",
    "b=a-b\n",
    "a=a-b\n",
    "\n",
    "print(\"a is :\",a)\n",
    "print(\"b is :\",b)"
   ]
  },
  {
   "cell_type": "code",
   "execution_count": 3,
   "metadata": {},
   "outputs": [
    {
     "name": "stdout",
     "output_type": "stream",
     "text": [
      "a is : 20\n",
      "b is : 10\n"
     ]
    }
   ],
   "source": [
    "#most efficient swap technique\n",
    "\n",
    "\n",
    "a =10\n",
    "b =20\n",
    "\n",
    "a,b = b,a\n",
    "\n",
    "print(\"a is :\",a)\n",
    "print(\"b is :\",b)"
   ]
  },
  {
   "cell_type": "code",
   "execution_count": null,
   "metadata": {},
   "outputs": [],
   "source": []
  }
 ],
 "metadata": {
  "kernelspec": {
   "display_name": "Python 3",
   "language": "python",
   "name": "python3"
  },
  "language_info": {
   "codemirror_mode": {
    "name": "ipython",
    "version": 3
   },
   "file_extension": ".py",
   "mimetype": "text/x-python",
   "name": "python",
   "nbconvert_exporter": "python",
   "pygments_lexer": "ipython3",
   "version": "3.7.6"
  }
 },
 "nbformat": 4,
 "nbformat_minor": 4
}
