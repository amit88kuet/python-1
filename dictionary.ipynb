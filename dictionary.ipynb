{
 "cells": [
  {
   "cell_type": "code",
   "execution_count": 1,
   "metadata": {},
   "outputs": [
    {
     "name": "stdout",
     "output_type": "stream",
     "text": [
      "{'name': 'Amit', 'age': '22', 'sex': 'male'}\n"
     ]
    }
   ],
   "source": [
    "d1= {\"name\" : \"Amit\",\"age\" : \"22\",\"sex\" : \"male\"}\n",
    "print(d1)"
   ]
  },
  {
   "cell_type": "code",
   "execution_count": 2,
   "metadata": {},
   "outputs": [
    {
     "name": "stdout",
     "output_type": "stream",
     "text": [
      "22\n"
     ]
    }
   ],
   "source": [
    "d1= {\"name\" : \"Amit\",\"age\" : \"22\",\"sex\" : \"male\"}\n",
    "print(d1[\"age\"])"
   ]
  },
  {
   "cell_type": "code",
   "execution_count": 3,
   "metadata": {},
   "outputs": [
    {
     "name": "stdout",
     "output_type": "stream",
     "text": [
      "22\n"
     ]
    }
   ],
   "source": [
    "d1= {\"name\" : \"Amit\",\"age1\" : \"22\",\"age2\" :\"22\",\"sex\" : \"male\"}\n",
    "print(d1[\"age2\"])"
   ]
  },
  {
   "cell_type": "code",
   "execution_count": 4,
   "metadata": {},
   "outputs": [
    {
     "name": "stdout",
     "output_type": "stream",
     "text": [
      "23\n"
     ]
    }
   ],
   "source": [
    "d1= {\"name\" : \"Amit\",\"age\" : \"22\",\"age\" :\"23\",\"sex\" : \"male\"}\n",
    "print(d1[\"age\"])"
   ]
  },
  {
   "cell_type": "code",
   "execution_count": 5,
   "metadata": {},
   "outputs": [
    {
     "name": "stdout",
     "output_type": "stream",
     "text": [
      "{'name': 'Anik', 'age': '23', 10: 10, 10.5: 10.5, True: True, (2, 3): 5}\n"
     ]
    }
   ],
   "source": [
    "d1= {\"name\" : \"Amit\",\"age\" : \"22\",\"sex\" : \"male\"}\n",
    "d2= {\"name\" : \"Anik\",\"age\" : \"23\", 10 : 10, 10.5 : 10.5, True : True, (2,3) : 5}\n",
    "print(d2)\n",
    "\n",
    "#here (2,3) is tuple whoose value is 5 "
   ]
  },
  {
   "cell_type": "code",
   "execution_count": 6,
   "metadata": {},
   "outputs": [
    {
     "name": "stdout",
     "output_type": "stream",
     "text": [
      "5\n"
     ]
    }
   ],
   "source": [
    "d1= {\"name\" : \"Amit\",\"age\" : \"22\",\"sex\" : \"male\"}\n",
    "d2= {\"name\" : \"Anik\",\"age\" : \"23\", 10 : 10, 10.5 : 10.5, True : True, (2,3) : 5}\n",
    "print(d2[2,3])"
   ]
  },
  {
   "cell_type": "code",
   "execution_count": 7,
   "metadata": {},
   "outputs": [
    {
     "name": "stdout",
     "output_type": "stream",
     "text": [
      "{'name': 'Anik', 10: 10, 10.5: 10.5, True: True, (2, 3): 5}\n"
     ]
    }
   ],
   "source": [
    "d1= {\"name\" : \"Amit\",\"age\" : \"22\",\"sex\" : \"male\"}\n",
    "d2= {\"name\" : \"Anik\",\"age\" : \"23\", 10 : 10, 10.5 : 10.5, True : True, (2,3) : 5}\n",
    "\n",
    "d2.pop(\"age\")\n",
    "print(d2)\n",
    "\n",
    "#to delete any item pop is used"
   ]
  },
  {
   "cell_type": "code",
   "execution_count": 8,
   "metadata": {},
   "outputs": [
    {
     "name": "stdout",
     "output_type": "stream",
     "text": [
      "{'name': 'Anik', 'age': '23', 10: 10, 10.5: 10.5, True: True, (2, 3): 5}\n",
      "{}\n"
     ]
    }
   ],
   "source": [
    "d1= {\"name\" : \"Amit\",\"age\" : \"22\",\"sex\" : \"male\"}\n",
    "d2= {\"name\" : \"Anik\",\"age\" : \"23\", 10 : 10, 10.5 : 10.5, True : True, (2,3) : 5}\n",
    "print(d2)\n",
    "\n",
    "d2.clear()\n",
    "print(d2)\n",
    "\n",
    "#to clear everything"
   ]
  },
  {
   "cell_type": "code",
   "execution_count": 9,
   "metadata": {},
   "outputs": [
    {
     "name": "stdout",
     "output_type": "stream",
     "text": [
      "6\n"
     ]
    }
   ],
   "source": [
    "d1= {\"name\" : \"Amit\",\"age\" : \"22\",\"sex\" : \"male\"}\n",
    "d2= {\"name\" : \"Anik\",\"age\" : \"23\", 10 : 10, 10.5 : 10.5, True : True, (2,3) : 5}\n",
    "\n",
    "x=len(d2)\n",
    "print(x)"
   ]
  },
  {
   "cell_type": "code",
   "execution_count": 11,
   "metadata": {},
   "outputs": [
    {
     "name": "stdout",
     "output_type": "stream",
     "text": [
      "dict_items([('name', 'Amit'), ('age', '22'), ('sex', 'male')])\n",
      "dict_keys(['name', 'age', 'sex'])\n"
     ]
    }
   ],
   "source": [
    "d1= {\"name\" : \"Amit\",\"age\" : \"22\",\"sex\" : \"male\"}\n",
    "d2= {\"name\" : \"Anik\",\"age\" : \"23\", 10 : 10, 10.5 : 10.5, True : True, (2,3) : 5}\n",
    "\n",
    "print(d1.items())\n",
    "print(d1.keys())"
   ]
  },
  {
   "cell_type": "code",
   "execution_count": 1,
   "metadata": {},
   "outputs": [
    {
     "name": "stdout",
     "output_type": "stream",
     "text": [
      "[430, 312, 525, 217]\n",
      "[('apples', 430), ('bananas', 312), ('oranges', 525), ('pears', 217)]\n",
      "Got apples that maps to 430\n",
      "Got bananas that maps to 312\n",
      "Got oranges that maps to 525\n",
      "Got pears that maps to 217\n"
     ]
    }
   ],
   "source": [
    "inventory = {'apples': 430, 'bananas': 312, 'oranges': 525, 'pears': 217}\n",
    "\n",
    "print(list(inventory.values()))\n",
    "print(list(inventory.items()))\n",
    "\n",
    "for k in inventory:\n",
    "    print(\"Got\",k,\"that maps to\",inventory[k])\n"
   ]
  },
  {
   "cell_type": "code",
   "execution_count": 2,
   "metadata": {},
   "outputs": [
    {
     "name": "stdout",
     "output_type": "stream",
     "text": [
      "True\n",
      "False\n",
      "312\n"
     ]
    }
   ],
   "source": [
    "inventory = {'apples': 430, 'bananas': 312, 'oranges': 525, 'pears': 217}\n",
    "print('apples' in inventory)\n",
    "print('cherries' in inventory)\n",
    "\n",
    "if 'bananas' in inventory:\n",
    "    print(inventory['bananas'])\n",
    "else:\n",
    "    print(\"We have no bananas\")\n"
   ]
  },
  {
   "cell_type": "code",
   "execution_count": 3,
   "metadata": {},
   "outputs": [
    {
     "name": "stdout",
     "output_type": "stream",
     "text": [
      "43\n"
     ]
    }
   ],
   "source": [
    "total = 0\n",
    "mydict = {\"cat\":12, \"dog\":6, \"elephant\":23, \"bear\":20}\n",
    "for akey in mydict:\n",
    "    if len(akey) > 3:\n",
    "        total = total + mydict[akey]\n",
    "print(total)"
   ]
  },
  {
   "cell_type": "code",
   "execution_count": null,
   "metadata": {},
   "outputs": [],
   "source": []
  }
 ],
 "metadata": {
  "kernelspec": {
   "display_name": "Python 3",
   "language": "python",
   "name": "python3"
  },
  "language_info": {
   "codemirror_mode": {
    "name": "ipython",
    "version": 3
   },
   "file_extension": ".py",
   "mimetype": "text/x-python",
   "name": "python",
   "nbconvert_exporter": "python",
   "pygments_lexer": "ipython3",
   "version": "3.7.6"
  }
 },
 "nbformat": 4,
 "nbformat_minor": 4
}
