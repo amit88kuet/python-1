{
 "cells": [
  {
   "cell_type": "code",
   "execution_count": 1,
   "metadata": {},
   "outputs": [
    {
     "name": "stdout",
     "output_type": "stream",
     "text": [
      "[1, 3, 5, 7, 8, 10]\n"
     ]
    }
   ],
   "source": [
    "list= [1,3,5,7,8,10]\n",
    "print(list)"
   ]
  },
  {
   "cell_type": "code",
   "execution_count": 2,
   "metadata": {},
   "outputs": [
    {
     "name": "stdout",
     "output_type": "stream",
     "text": [
      "[1, 2, ['amit', 2, 5, 8, 10, 3], 5, 8, 4, 'amit']\n"
     ]
    }
   ],
   "source": [
    "list= [1,2,['amit',2,5,8,10,3],5,8,4,'amit']\n",
    "print(list)"
   ]
  },
  {
   "cell_type": "code",
   "execution_count": 5,
   "metadata": {},
   "outputs": [
    {
     "name": "stdout",
     "output_type": "stream",
     "text": [
      "amit\n"
     ]
    }
   ],
   "source": [
    "list= [1,2,['amit',2,5,8,10,3],5,8,4,'amit']\n",
    "print(list[2][0])"
   ]
  },
  {
   "cell_type": "code",
   "execution_count": 6,
   "metadata": {},
   "outputs": [
    {
     "name": "stdout",
     "output_type": "stream",
     "text": [
      "5\n"
     ]
    }
   ],
   "source": [
    "list= [1,2,['amit',2,5,8,10,3],5,8,4,'amit']\n",
    "print(list[2][2])"
   ]
  },
  {
   "cell_type": "code",
   "execution_count": 7,
   "metadata": {},
   "outputs": [
    {
     "name": "stdout",
     "output_type": "stream",
     "text": [
      "[1, 2, ['amit', 2, 5, 8, 10, 3], 5, 8, 4, 'amit', 1, 2, 3, 4, 5]\n"
     ]
    }
   ],
   "source": [
    "list= [1,2,['amit',2,5,8,10,3],5,8,4,'amit']\n",
    "list=list+ [1,2,3,4,5]\n",
    "print(list)"
   ]
  },
  {
   "cell_type": "code",
   "execution_count": 10,
   "metadata": {},
   "outputs": [
    {
     "name": "stdout",
     "output_type": "stream",
     "text": [
      "[1, 2, ['amit', 2, 5, 8, 10, 3], 5, 8, 4, 'amit', 1, 2, 3, 4, 5]\n"
     ]
    }
   ],
   "source": [
    "#another way for addition\n",
    "\n",
    "list= [1,2,['amit',2,5,8,10,3],5,8,4,'amit']\n",
    "list.extend([1,2,3,4,5])\n",
    "print(list)"
   ]
  },
  {
   "cell_type": "code",
   "execution_count": 12,
   "metadata": {},
   "outputs": [
    {
     "name": "stdout",
     "output_type": "stream",
     "text": [
      "[1, ['amit', 2, 5, 8, 10, 3], 5, 8, 4, 'amit']\n"
     ]
    }
   ],
   "source": [
    "#It deletes when it founds 2 at first, further 2 will not be deleted\n",
    "\n",
    "list= [1,2,['amit',2,5,8,10,3],2,5,8,4,'amit']\n",
    "list.remove(2)\n",
    "print(list)"
   ]
  },
  {
   "cell_type": "code",
   "execution_count": 13,
   "metadata": {},
   "outputs": [
    {
     "name": "stdout",
     "output_type": "stream",
     "text": [
      "[1, 2, 5, 8, 4, 'amit']\n"
     ]
    }
   ],
   "source": [
    "list= [1,2,['amit',2,5,8,10,3],5,8,4,'amit']\n",
    "list.remove(list[2])\n",
    "print(list)"
   ]
  },
  {
   "cell_type": "code",
   "execution_count": 14,
   "metadata": {},
   "outputs": [
    {
     "name": "stdout",
     "output_type": "stream",
     "text": [
      "[1, 2, ['amit', 2, 5, 8, 10, 3], 8, 4, 'amit']\n"
     ]
    }
   ],
   "source": [
    "list= [1,2,['amit',2,5,8,10,3],5,8,4,'amit']\n",
    "list.remove(list[3])\n",
    "print(list)"
   ]
  },
  {
   "cell_type": "code",
   "execution_count": 16,
   "metadata": {},
   "outputs": [
    {
     "name": "stdout",
     "output_type": "stream",
     "text": [
      "2\n"
     ]
    }
   ],
   "source": [
    "#counts how many 5 is in the list\n",
    "\n",
    "list= [1,2,['amit',2,5,8,10,3],5,5,8,4,'amit']\n",
    "\n",
    "print(list.count(5))"
   ]
  },
  {
   "cell_type": "code",
   "execution_count": null,
   "metadata": {},
   "outputs": [],
   "source": []
  }
 ],
 "metadata": {
  "kernelspec": {
   "display_name": "Python 3",
   "language": "python",
   "name": "python3"
  },
  "language_info": {
   "codemirror_mode": {
    "name": "ipython",
    "version": 3
   },
   "file_extension": ".py",
   "mimetype": "text/x-python",
   "name": "python",
   "nbconvert_exporter": "python",
   "pygments_lexer": "ipython3",
   "version": "3.7.6"
  }
 },
 "nbformat": 4,
 "nbformat_minor": 4
}
