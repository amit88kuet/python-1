{
 "cells": [
  {
   "cell_type": "code",
   "execution_count": 8,
   "metadata": {},
   "outputs": [
    {
     "name": "stdout",
     "output_type": "stream",
     "text": [
      "Enter a : 10\n",
      "Enter b : 30\n",
      "Enter c : 15\n",
      "b is the largest number\n"
     ]
    }
   ],
   "source": [
    "a= int(input(\"Enter a : \"))\n",
    "b= int(input(\"Enter b : \"))\n",
    "c= int(input(\"Enter c : \"))\n",
    "\n",
    "if a>b and a>c :\n",
    "    print(\"a is the largest number\")\n",
    "\n",
    "elif b>a and b>c :\n",
    "    print(\"b is the largest number\")\n",
    "    \n",
    "elif c>a and c>b :\n",
    "    print (\"c is the largest number\")\n",
    "    \n"
   ]
  },
  {
   "cell_type": "code",
   "execution_count": 11,
   "metadata": {},
   "outputs": [
    {
     "name": "stdout",
     "output_type": "stream",
     "text": [
      "Enter a : 10\n",
      "Enter b : 30\n",
      "Enter c : 20\n",
      "b is the largest\n"
     ]
    }
   ],
   "source": [
    "a= int(input(\"Enter a : \"))\n",
    "b= int(input(\"Enter b : \"))\n",
    "c= int(input(\"Enter c : \"))\n",
    "\n",
    "if a>b :\n",
    "    if a>c :\n",
    "        print(\"a is the largest\")\n",
    "    else :\n",
    "        print(\"c is the largest\")\n",
    "        \n",
    "elif b>a :\n",
    "    if b>c :\n",
    "        print(\"b is the largest\")\n",
    "    else :\n",
    "        print(\"c is the largest\")"
   ]
  },
  {
   "cell_type": "code",
   "execution_count": 3,
   "metadata": {},
   "outputs": [
    {
     "name": "stdout",
     "output_type": "stream",
     "text": [
      "Enter a : 10\n",
      "Enter b : 20\n",
      "Enter c : 15\n",
      "c is middle value\n"
     ]
    }
   ],
   "source": [
    "a= int(input(\"Enter a : \"))\n",
    "b= int(input(\"Enter b : \"))\n",
    "c= int(input(\"Enter c : \"))\n",
    "\n",
    " if a>b and a<c :\n",
    "        print(\"a is middle value\")\n",
    "   \n",
    " elif b>a and b<c :\n",
    "        print(\"b is middle value\")\n",
    "        \n",
    "elif c>a and c<b :\n",
    "        print(\"c is middle value\")\n",
    "    \n"
   ]
  },
  {
   "cell_type": "code",
   "execution_count": null,
   "metadata": {},
   "outputs": [],
   "source": []
  }
 ],
 "metadata": {
  "kernelspec": {
   "display_name": "Python 3",
   "language": "python",
   "name": "python3"
  },
  "language_info": {
   "codemirror_mode": {
    "name": "ipython",
    "version": 3
   },
   "file_extension": ".py",
   "mimetype": "text/x-python",
   "name": "python",
   "nbconvert_exporter": "python",
   "pygments_lexer": "ipython3",
   "version": "3.7.6"
  }
 },
 "nbformat": 4,
 "nbformat_minor": 4
}
