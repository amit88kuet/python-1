{
 "cells": [
  {
   "cell_type": "code",
   "execution_count": 1,
   "metadata": {},
   "outputs": [
    {
     "name": "stdout",
     "output_type": "stream",
     "text": [
      "EEE\n",
      "CSE\n",
      "ME\n",
      "CE\n",
      "BME\n",
      "URP\n"
     ]
    }
   ],
   "source": [
    "a= [\"EEE\",\"CSE\",\"ME\",\"CE\",\"BME\",\"URP\"]\n",
    "\n",
    "for department in a :                        #it means the elements in a will go to dept.\n",
    "    print(department)"
   ]
  },
  {
   "cell_type": "code",
   "execution_count": 3,
   "metadata": {},
   "outputs": [
    {
     "name": "stdout",
     "output_type": "stream",
     "text": [
      "150\n"
     ]
    }
   ],
   "source": [
    "a= [10,20,30,40,50]\n",
    "\n",
    "total =0\n",
    "\n",
    "for numbers in a :\n",
    "    total =total+numbers\n",
    "print(total)"
   ]
  },
  {
   "cell_type": "code",
   "execution_count": 5,
   "metadata": {},
   "outputs": [
    {
     "name": "stdout",
     "output_type": "stream",
     "text": [
      "55\n"
     ]
    }
   ],
   "source": [
    "# 1,2,3,4,5,6,7,8,9,10\n",
    "\n",
    "total =0\n",
    "for number in range(1,11) :\n",
    "    total =total+number\n",
    "    \n",
    "print(total)"
   ]
  },
  {
   "cell_type": "code",
   "execution_count": 8,
   "metadata": {},
   "outputs": [
    {
     "name": "stdout",
     "output_type": "stream",
     "text": [
      "30\n"
     ]
    }
   ],
   "source": [
    "# 1,2,3,4,5,6,7,8,9,10                        #code for the addition of even numbers between 1 to 10\n",
    "\n",
    "total =0\n",
    "for number in range(1,11) :\n",
    "    \n",
    "    if (number%2) ==0 :\n",
    "        total =total+number\n",
    "    \n",
    "print(total)"
   ]
  },
  {
   "cell_type": "code",
   "execution_count": 9,
   "metadata": {},
   "outputs": [
    {
     "name": "stdout",
     "output_type": "stream",
     "text": [
      "25\n"
     ]
    }
   ],
   "source": [
    "# 1,2,3,4,5,6,7,8,9,10                        #code for the addition of odd numbers between 1 to 10\n",
    "\n",
    "total =0\n",
    "for number in range(1,11) :\n",
    "    \n",
    "    if (number%2) !=0 :\n",
    "        total =total+number\n",
    "    \n",
    "print(total)"
   ]
  },
  {
   "cell_type": "code",
   "execution_count": 10,
   "metadata": {},
   "outputs": [
    {
     "name": "stdout",
     "output_type": "stream",
     "text": [
      "12\n"
     ]
    }
   ],
   "source": [
    "# 1,2,3,4,5,6,7,8,9,10                        #code for the addition of numbers divided by 4 between 1 to 10\n",
    "\n",
    "total =0\n",
    "for number in range(1,11) :\n",
    "    \n",
    "    if (number%4) ==0 :\n",
    "        total =total+number\n",
    "    \n",
    "print(total)"
   ]
  },
  {
   "cell_type": "code",
   "execution_count": 17,
   "metadata": {},
   "outputs": [
    {
     "name": "stdout",
     "output_type": "stream",
     "text": [
      "Enter a number : 5\n",
      "Prime number !!\n"
     ]
    }
   ],
   "source": [
    "# code for prime number\n",
    "\n",
    "\n",
    "n= int(input(\"Enter a number : \"))\n",
    "\n",
    "for num in range (2,n) :\n",
    "     if (n%num) ==0 :\n",
    "        print(\"Not a prime number !!\")\n",
    "        \n",
    "        break\n",
    "else :\n",
    "    print (\"Prime number !!\")\n",
    "    "
   ]
  },
  {
   "cell_type": "code",
   "execution_count": 1,
   "metadata": {},
   "outputs": [
    {
     "name": "stdout",
     "output_type": "stream",
     "text": [
      "God Save Us !!!!\n",
      "God Save Us !!!!\n",
      "God Save Us !!!!\n",
      "God Save Us !!!!\n",
      "God Save Us !!!!\n",
      "God Save Us !!!!\n",
      "God Save Us !!!!\n",
      "God Save Us !!!!\n",
      "God Save Us !!!!\n"
     ]
    }
   ],
   "source": [
    "#to make loop, while is used\n",
    "\n",
    "\n",
    "n=1\n",
    "\n",
    "while n<10 :\n",
    "    n=n+1\n",
    "    print(\"God Save Us !!!!\")"
   ]
  },
  {
   "cell_type": "code",
   "execution_count": null,
   "metadata": {},
   "outputs": [],
   "source": []
  },
  {
   "cell_type": "code",
   "execution_count": null,
   "metadata": {},
   "outputs": [],
   "source": [
    "\n",
    "       "
   ]
  },
  {
   "cell_type": "code",
   "execution_count": null,
   "metadata": {},
   "outputs": [],
   "source": []
  }
 ],
 "metadata": {
  "kernelspec": {
   "display_name": "Python 3",
   "language": "python",
   "name": "python3"
  },
  "language_info": {
   "codemirror_mode": {
    "name": "ipython",
    "version": 3
   },
   "file_extension": ".py",
   "mimetype": "text/x-python",
   "name": "python",
   "nbconvert_exporter": "python",
   "pygments_lexer": "ipython3",
   "version": "3.7.6"
  }
 },
 "nbformat": 4,
 "nbformat_minor": 4
}
