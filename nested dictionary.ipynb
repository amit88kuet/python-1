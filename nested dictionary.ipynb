{
 "cells": [
  {
   "cell_type": "code",
   "execution_count": 1,
   "metadata": {},
   "outputs": [
    {
     "name": "stdout",
     "output_type": "stream",
     "text": [
      "{1: {'name': 'Amit', 'age': '22', 'sex': 'male'}, 2: {'name': 'Karim', 'age': '23', 'sex': 'male'}, 3: {'name': 'Rahim', 'age': '24', 'sex': 'male'}}\n"
     ]
    }
   ],
   "source": [
    "student= { 1 : {\"name\" : \"Amit\",\"age\" : \"22\",\"sex\" : \"male\"},\n",
    "           2 : {\"name\" : \"Karim\",\"age\" : \"23\",\"sex\" : \"male\"},\n",
    "           3 : {\"name\" : \"Rahim\",\"age\" : \"24\",\"sex\" : \"male\"}\n",
    "        }\n",
    "\n",
    "print(student)"
   ]
  },
  {
   "cell_type": "code",
   "execution_count": 2,
   "metadata": {},
   "outputs": [
    {
     "name": "stdout",
     "output_type": "stream",
     "text": [
      "Amit\n",
      "23\n",
      "male\n"
     ]
    }
   ],
   "source": [
    "student= { 1 : {\"name\" : \"Amit\",\"age\" : \"22\",\"sex\" : \"male\"},\n",
    "           2 : {\"name\" : \"Karim\",\"age\" : \"23\",\"sex\" : \"male\"},\n",
    "           3 : {\"name\" : \"Rahim\",\"age\" : \"24\",\"sex\" : \"male\"}\n",
    "        }\n",
    "\n",
    "print(student[1][\"name\"])\n",
    "print(student[2][\"age\"])\n",
    "print(student[3][\"sex\"])"
   ]
  },
  {
   "cell_type": "code",
   "execution_count": 5,
   "metadata": {},
   "outputs": [
    {
     "name": "stdout",
     "output_type": "stream",
     "text": [
      "{'name': 'Rahat', 'age': '25', 'sex': 'male'}\n"
     ]
    }
   ],
   "source": [
    "student= { 1 : {\"name\" : \"Amit\",\"age\" : \"22\",\"sex\" : \"male\"},\n",
    "           2 : {\"name\" : \"Karim\",\"age\" : \"23\",\"sex\" : \"male\"},\n",
    "           3 : {\"name\" : \"Rahim\",\"age\" : \"24\",\"sex\" : \"male\"}\n",
    "        }\n",
    "\n",
    "\n",
    "student[4]={}\n",
    "student[4][\"name\"] =\"Rahat\"\n",
    "student[4][\"age\"]  =\"25\"\n",
    "student[4][\"sex\"]  =\"male\"\n",
    "\n",
    "\n",
    "print(student[4])"
   ]
  },
  {
   "cell_type": "code",
   "execution_count": 12,
   "metadata": {},
   "outputs": [
    {
     "name": "stdout",
     "output_type": "stream",
     "text": [
      "{'name': 'Rahat', 'sex': 'male'}\n"
     ]
    }
   ],
   "source": [
    "student= { 1 : {\"name\" : \"Amit\",\"age\" : \"22\",\"sex\" : \"male\"},\n",
    "           2 : {\"name\" : \"Karim\",\"age\" : \"23\",\"sex\" : \"male\"},\n",
    "           3 : {\"name\" : \"Rahim\",\"age\" : \"24\",\"sex\" : \"male\"}\n",
    "        }\n",
    "\n",
    "\n",
    "student[4]={}\n",
    "student[4][\"name\"] =\"Rahat\"\n",
    "student[4][\"age\"]  =\"25\"\n",
    "student[4][\"sex\"]  =\"male\"\n",
    "\n",
    "\n",
    "del (student[4][\"age\"])\n",
    "print(student[4])\n",
    "\n",
    "#we can do it also using  -  student[4].pop(\"age\")"
   ]
  },
  {
   "cell_type": "code",
   "execution_count": 10,
   "metadata": {},
   "outputs": [
    {
     "name": "stdout",
     "output_type": "stream",
     "text": [
      "{1: {'name': 'Amit', 'age': '22', 'sex': 'male'}, 2: {'name': 'Karim', 'age': '23', 'sex': 'male'}, 3: {'name': 'Rahim', 'age': '24', 'sex': 'male'}}\n"
     ]
    }
   ],
   "source": [
    "student= { 1 : {\"name\" : \"Amit\",\"age\" : \"22\",\"sex\" : \"male\"},\n",
    "           2 : {\"name\" : \"Karim\",\"age\" : \"23\",\"sex\" : \"male\"},\n",
    "           3 : {\"name\" : \"Rahim\",\"age\" : \"24\",\"sex\" : \"male\"}\n",
    "        }\n",
    "\n",
    "\n",
    "student[4]={}\n",
    "student[4][\"name\"] =\"Rahat\"\n",
    "student[4][\"age\"]  =\"25\"\n",
    "student[4][\"sex\"]  =\"male\"\n",
    "\n",
    "\n",
    "del (student[4])\n",
    "print(student)"
   ]
  },
  {
   "cell_type": "code",
   "execution_count": null,
   "metadata": {},
   "outputs": [],
   "source": []
  }
 ],
 "metadata": {
  "kernelspec": {
   "display_name": "Python 3",
   "language": "python",
   "name": "python3"
  },
  "language_info": {
   "codemirror_mode": {
    "name": "ipython",
    "version": 3
   },
   "file_extension": ".py",
   "mimetype": "text/x-python",
   "name": "python",
   "nbconvert_exporter": "python",
   "pygments_lexer": "ipython3",
   "version": "3.7.6"
  }
 },
 "nbformat": 4,
 "nbformat_minor": 4
}
